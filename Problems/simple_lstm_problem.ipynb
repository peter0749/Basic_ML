{
 "cells": [
  {
   "cell_type": "code",
   "execution_count": 61,
   "metadata": {},
   "outputs": [],
   "source": [
    "import numpy as np\n",
    "import keras\n",
    "from keras.layers import Dense, Input, LSTM, Dropout\n",
    "from keras.models import Model, Sequential\n",
    "from keras.regularizers import l2\n",
    "from keras.optimizers import Adam\n",
    "\n"
   ]
  },
  {
   "cell_type": "code",
   "execution_count": 62,
   "metadata": {},
   "outputs": [
    {
     "name": "stdout",
     "output_type": "stream",
     "text": [
      "_________________________________________________________________\n",
      "Layer (type)                 Output Shape              Param #   \n",
      "=================================================================\n",
      "lstm_4 (LSTM)                (None, 20)                2480      \n",
      "_________________________________________________________________\n",
      "dropout_2 (Dropout)          (None, 20)                0         \n",
      "_________________________________________________________________\n",
      "dense_4 (Dense)              (None, 2)                 42        \n",
      "=================================================================\n",
      "Total params: 2,522\n",
      "Trainable params: 2,522\n",
      "Non-trainable params: 0\n",
      "_________________________________________________________________\n"
     ]
    }
   ],
   "source": [
    "model = Sequential()\n",
    "model.add(LSTM(20, recurrent_dropout=0.14, recurrent_regularizer=l2(0.01), input_shape=(3,10), return_sequences=False))\n",
    "model.add(Dropout(0.14))\n",
    "model.add(Dense(2, activation='softmax'))\n",
    "model.compile(optimizer=Adam(), loss='categorical_crossentropy', metrics=['accuracy'])\n",
    "model.summary()\n"
   ]
  },
  {
   "cell_type": "code",
   "execution_count": 63,
   "metadata": {},
   "outputs": [],
   "source": [
    "def generator(size, form='v'):\n",
    "    X = np.zeros((size,3,10))\n",
    "    Y = np.zeros((size,2))\n",
    "    for batch in xrange(size):\n",
    "        lu = np.random.randint(1,10) # [1,9]\n",
    "        mid= np.random.randint(0,lu) # [0,lu)\n",
    "        ru = np.random.randint(mid+1,10) # [mid+1, 9]\n",
    "        if form=='v':\n",
    "            X[batch,0,lu] = 1\n",
    "            X[batch,1,mid]= 1\n",
    "            X[batch,2,ru] = 1\n",
    "            Y[batch,0] = 1\n",
    "        else:\n",
    "            X[batch,0,-lu]= 1\n",
    "            X[batch,1,-mid]=1\n",
    "            X[batch,2,-ru] =1\n",
    "            Y[batch,1] = 1\n",
    "    return X, Y"
   ]
  },
  {
   "cell_type": "code",
   "execution_count": 64,
   "metadata": {},
   "outputs": [],
   "source": [
    "X, Y = generator(20000, 'v')\n",
    "tX, tY = generator(20000, 'u')\n",
    "X = np.append(X,tX,axis=0)\n",
    "Y = np.append(Y,tY,axis=0)"
   ]
  },
  {
   "cell_type": "code",
   "execution_count": 65,
   "metadata": {},
   "outputs": [
    {
     "name": "stdout",
     "output_type": "stream",
     "text": [
      "Epoch 1/5\n",
      "40000/40000 [==============================] - 21s 523us/step - loss: 0.4648 - acc: 0.7920\n",
      "Epoch 2/5\n",
      "40000/40000 [==============================] - 19s 469us/step - loss: 0.2153 - acc: 0.9231\n",
      "Epoch 3/5\n",
      "40000/40000 [==============================] - 20s 492us/step - loss: 0.1959 - acc: 0.9248\n",
      "Epoch 4/5\n",
      "40000/40000 [==============================] - 19s 470us/step - loss: 0.1876 - acc: 0.9259\n",
      "Epoch 5/5\n",
      "40000/40000 [==============================] - 20s 501us/step - loss: 0.1836 - acc: 0.9255\n"
     ]
    },
    {
     "data": {
      "text/plain": [
       "<keras.callbacks.History at 0x126484cd0>"
      ]
     },
     "execution_count": 65,
     "metadata": {},
     "output_type": "execute_result"
    }
   ],
   "source": [
    "model.fit(X,Y,epochs=5,shuffle=True)"
   ]
  },
  {
   "cell_type": "code",
   "execution_count": 70,
   "metadata": {},
   "outputs": [
    {
     "data": {
      "text/plain": [
       "[0.16999197, 0.93400002]"
      ]
     },
     "execution_count": 70,
     "metadata": {},
     "output_type": "execute_result"
    }
   ],
   "source": [
    "X, Y = generator(1000, 'v')\n",
    "tX, tY = generator(1000, 'u')\n",
    "X = np.append(X,tX,axis=0)\n",
    "Y = np.append(Y,tY,axis=0)\n",
    "model.test_on_batch(X,Y)"
   ]
  },
  {
   "cell_type": "code",
   "execution_count": 71,
   "metadata": {},
   "outputs": [
    {
     "name": "stdout",
     "output_type": "stream",
     "text": [
      "V\n",
      "^\n"
     ]
    }
   ],
   "source": [
    "vx, _ = generator(1,'v')\n",
    "print 'V' if model.predict(vx)[0,0]>0.5 else '^'\n",
    "\n",
    "_x, _ = generator(1,'u')\n",
    "print 'V' if model.predict(_x)[0,0]>0.5 else '^'"
   ]
  },
  {
   "cell_type": "code",
   "execution_count": null,
   "metadata": {},
   "outputs": [],
   "source": []
  }
 ],
 "metadata": {
  "kernelspec": {
   "display_name": "Python 2",
   "language": "python",
   "name": "python2"
  },
  "language_info": {
   "codemirror_mode": {
    "name": "ipython",
    "version": 2
   },
   "file_extension": ".py",
   "mimetype": "text/x-python",
   "name": "python",
   "nbconvert_exporter": "python",
   "pygments_lexer": "ipython2",
   "version": "2.7.10"
  }
 },
 "nbformat": 4,
 "nbformat_minor": 2
}
